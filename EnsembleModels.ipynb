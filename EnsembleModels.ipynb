{
  "nbformat": 4,
  "nbformat_minor": 0,
  "metadata": {
    "name": "Exploratory_Analysis",
    "notebookId": 1922811289607401,
    "colab": {
      "name": "EnsembleModels.ipynb",
      "provenance": [],
      "collapsed_sections": []
    },
    "kernelspec": {
      "name": "python3",
      "display_name": "Python 3"
    }
  },
  "cells": [
    {
      "cell_type": "code",
      "metadata": {
        "id": "L2FUtn85uM0T",
        "outputId": "60e58ad1-b404-4967-a957-27a0da8f23bc",
        "colab": {
          "base_uri": "https://localhost:8080/"
        }
      },
      "source": [
        "%%bash\n",
        "pip install pyspark\n",
        "\n",
        "if [[ ! -f ./train.csv ]]; then \n",
        "   wget https://raw.githubusercontent.com/aatishsuman/health-insurance-cross-sell-prediction/main/data/train.csv\n",
        "fi\n",
        "\n",
        "if [[ ! -f ./test.csv ]]; then \n",
        "   wget https://raw.githubusercontent.com/aatishsuman/health-insurance-cross-sell-prediction/main/data/test.csv  \n",
        "fi"
      ],
      "execution_count": 1,
      "outputs": [
        {
          "output_type": "stream",
          "text": [
            "Requirement already satisfied: pyspark in /usr/local/lib/python3.6/dist-packages (3.0.1)\n",
            "Requirement already satisfied: py4j==0.10.9 in /usr/local/lib/python3.6/dist-packages (from pyspark) (0.10.9)\n"
          ],
          "name": "stdout"
        }
      ]
    },
    {
      "cell_type": "code",
      "metadata": {
        "id": "pC-alYwLuM0P"
      },
      "source": [
        "%matplotlib inline\n",
        "from pyspark.sql import SparkSession\n",
        "from pyspark.sql import SQLContext\n",
        "import os\n",
        "import matplotlib.pyplot as plt\n",
        "import seaborn as sns\n",
        "from pyspark.sql import functions as fn\n",
        "\n",
        "spark = SparkSession.builder.master(\"local[*]\").getOrCreate()\n",
        "sc = spark.sparkContext"
      ],
      "execution_count": 2,
      "outputs": []
    },
    {
      "cell_type": "code",
      "metadata": {
        "id": "N4UPwI4fuM0W"
      },
      "source": [
        "train = spark.read.csv('train.csv',inferSchema=True,header=True)\n",
        "test=spark.read.csv('test.csv',inferSchema=True,header=True)"
      ],
      "execution_count": 3,
      "outputs": []
    },
    {
      "cell_type": "code",
      "metadata": {
        "id": "SQjCbq9HuM0Y",
        "outputId": "156450e7-8218-4c77-edd5-e1a0989af119",
        "colab": {
          "base_uri": "https://localhost:8080/",
          "height": 194
        }
      },
      "source": [
        "train.toPandas().head()"
      ],
      "execution_count": 4,
      "outputs": [
        {
          "output_type": "execute_result",
          "data": {
            "text/html": [
              "<div>\n",
              "<style scoped>\n",
              "    .dataframe tbody tr th:only-of-type {\n",
              "        vertical-align: middle;\n",
              "    }\n",
              "\n",
              "    .dataframe tbody tr th {\n",
              "        vertical-align: top;\n",
              "    }\n",
              "\n",
              "    .dataframe thead th {\n",
              "        text-align: right;\n",
              "    }\n",
              "</style>\n",
              "<table border=\"1\" class=\"dataframe\">\n",
              "  <thead>\n",
              "    <tr style=\"text-align: right;\">\n",
              "      <th></th>\n",
              "      <th>id</th>\n",
              "      <th>Gender</th>\n",
              "      <th>Age</th>\n",
              "      <th>Driving_License</th>\n",
              "      <th>Region_Code</th>\n",
              "      <th>Previously_Insured</th>\n",
              "      <th>Vehicle_Age</th>\n",
              "      <th>Vehicle_Damage</th>\n",
              "      <th>Annual_Premium</th>\n",
              "      <th>Policy_Sales_Channel</th>\n",
              "      <th>Vintage</th>\n",
              "      <th>Response</th>\n",
              "    </tr>\n",
              "  </thead>\n",
              "  <tbody>\n",
              "    <tr>\n",
              "      <th>0</th>\n",
              "      <td>1</td>\n",
              "      <td>Male</td>\n",
              "      <td>44</td>\n",
              "      <td>1</td>\n",
              "      <td>28.0</td>\n",
              "      <td>0</td>\n",
              "      <td>&gt; 2 Years</td>\n",
              "      <td>Yes</td>\n",
              "      <td>40454.0</td>\n",
              "      <td>26.0</td>\n",
              "      <td>217</td>\n",
              "      <td>1</td>\n",
              "    </tr>\n",
              "    <tr>\n",
              "      <th>1</th>\n",
              "      <td>2</td>\n",
              "      <td>Male</td>\n",
              "      <td>76</td>\n",
              "      <td>1</td>\n",
              "      <td>3.0</td>\n",
              "      <td>0</td>\n",
              "      <td>1-2 Year</td>\n",
              "      <td>No</td>\n",
              "      <td>33536.0</td>\n",
              "      <td>26.0</td>\n",
              "      <td>183</td>\n",
              "      <td>0</td>\n",
              "    </tr>\n",
              "    <tr>\n",
              "      <th>2</th>\n",
              "      <td>3</td>\n",
              "      <td>Male</td>\n",
              "      <td>47</td>\n",
              "      <td>1</td>\n",
              "      <td>28.0</td>\n",
              "      <td>0</td>\n",
              "      <td>&gt; 2 Years</td>\n",
              "      <td>Yes</td>\n",
              "      <td>38294.0</td>\n",
              "      <td>26.0</td>\n",
              "      <td>27</td>\n",
              "      <td>1</td>\n",
              "    </tr>\n",
              "    <tr>\n",
              "      <th>3</th>\n",
              "      <td>4</td>\n",
              "      <td>Male</td>\n",
              "      <td>21</td>\n",
              "      <td>1</td>\n",
              "      <td>11.0</td>\n",
              "      <td>1</td>\n",
              "      <td>&lt; 1 Year</td>\n",
              "      <td>No</td>\n",
              "      <td>28619.0</td>\n",
              "      <td>152.0</td>\n",
              "      <td>203</td>\n",
              "      <td>0</td>\n",
              "    </tr>\n",
              "    <tr>\n",
              "      <th>4</th>\n",
              "      <td>5</td>\n",
              "      <td>Female</td>\n",
              "      <td>29</td>\n",
              "      <td>1</td>\n",
              "      <td>41.0</td>\n",
              "      <td>1</td>\n",
              "      <td>&lt; 1 Year</td>\n",
              "      <td>No</td>\n",
              "      <td>27496.0</td>\n",
              "      <td>152.0</td>\n",
              "      <td>39</td>\n",
              "      <td>0</td>\n",
              "    </tr>\n",
              "  </tbody>\n",
              "</table>\n",
              "</div>"
            ],
            "text/plain": [
              "   id  Gender  Age  ...  Policy_Sales_Channel  Vintage  Response\n",
              "0   1    Male   44  ...                  26.0      217         1\n",
              "1   2    Male   76  ...                  26.0      183         0\n",
              "2   3    Male   47  ...                  26.0       27         1\n",
              "3   4    Male   21  ...                 152.0      203         0\n",
              "4   5  Female   29  ...                 152.0       39         0\n",
              "\n",
              "[5 rows x 12 columns]"
            ]
          },
          "metadata": {
            "tags": []
          },
          "execution_count": 4
        }
      ]
    },
    {
      "cell_type": "code",
      "metadata": {
        "id": "AQJS2TrBuM0b",
        "outputId": "0a65a14d-4f2a-427d-f3c2-3252915d803b",
        "colab": {
          "base_uri": "https://localhost:8080/",
          "height": 194
        }
      },
      "source": [
        "test.toPandas().head()"
      ],
      "execution_count": 5,
      "outputs": [
        {
          "output_type": "execute_result",
          "data": {
            "text/html": [
              "<div>\n",
              "<style scoped>\n",
              "    .dataframe tbody tr th:only-of-type {\n",
              "        vertical-align: middle;\n",
              "    }\n",
              "\n",
              "    .dataframe tbody tr th {\n",
              "        vertical-align: top;\n",
              "    }\n",
              "\n",
              "    .dataframe thead th {\n",
              "        text-align: right;\n",
              "    }\n",
              "</style>\n",
              "<table border=\"1\" class=\"dataframe\">\n",
              "  <thead>\n",
              "    <tr style=\"text-align: right;\">\n",
              "      <th></th>\n",
              "      <th>id</th>\n",
              "      <th>Gender</th>\n",
              "      <th>Age</th>\n",
              "      <th>Driving_License</th>\n",
              "      <th>Region_Code</th>\n",
              "      <th>Previously_Insured</th>\n",
              "      <th>Vehicle_Age</th>\n",
              "      <th>Vehicle_Damage</th>\n",
              "      <th>Annual_Premium</th>\n",
              "      <th>Policy_Sales_Channel</th>\n",
              "      <th>Vintage</th>\n",
              "    </tr>\n",
              "  </thead>\n",
              "  <tbody>\n",
              "    <tr>\n",
              "      <th>0</th>\n",
              "      <td>381110</td>\n",
              "      <td>Male</td>\n",
              "      <td>25</td>\n",
              "      <td>1</td>\n",
              "      <td>11.0</td>\n",
              "      <td>1</td>\n",
              "      <td>&lt; 1 Year</td>\n",
              "      <td>No</td>\n",
              "      <td>35786.0</td>\n",
              "      <td>152.0</td>\n",
              "      <td>53</td>\n",
              "    </tr>\n",
              "    <tr>\n",
              "      <th>1</th>\n",
              "      <td>381111</td>\n",
              "      <td>Male</td>\n",
              "      <td>40</td>\n",
              "      <td>1</td>\n",
              "      <td>28.0</td>\n",
              "      <td>0</td>\n",
              "      <td>1-2 Year</td>\n",
              "      <td>Yes</td>\n",
              "      <td>33762.0</td>\n",
              "      <td>7.0</td>\n",
              "      <td>111</td>\n",
              "    </tr>\n",
              "    <tr>\n",
              "      <th>2</th>\n",
              "      <td>381112</td>\n",
              "      <td>Male</td>\n",
              "      <td>47</td>\n",
              "      <td>1</td>\n",
              "      <td>28.0</td>\n",
              "      <td>0</td>\n",
              "      <td>1-2 Year</td>\n",
              "      <td>Yes</td>\n",
              "      <td>40050.0</td>\n",
              "      <td>124.0</td>\n",
              "      <td>199</td>\n",
              "    </tr>\n",
              "    <tr>\n",
              "      <th>3</th>\n",
              "      <td>381113</td>\n",
              "      <td>Male</td>\n",
              "      <td>24</td>\n",
              "      <td>1</td>\n",
              "      <td>27.0</td>\n",
              "      <td>1</td>\n",
              "      <td>&lt; 1 Year</td>\n",
              "      <td>Yes</td>\n",
              "      <td>37356.0</td>\n",
              "      <td>152.0</td>\n",
              "      <td>187</td>\n",
              "    </tr>\n",
              "    <tr>\n",
              "      <th>4</th>\n",
              "      <td>381114</td>\n",
              "      <td>Male</td>\n",
              "      <td>27</td>\n",
              "      <td>1</td>\n",
              "      <td>28.0</td>\n",
              "      <td>1</td>\n",
              "      <td>&lt; 1 Year</td>\n",
              "      <td>No</td>\n",
              "      <td>59097.0</td>\n",
              "      <td>152.0</td>\n",
              "      <td>297</td>\n",
              "    </tr>\n",
              "  </tbody>\n",
              "</table>\n",
              "</div>"
            ],
            "text/plain": [
              "       id Gender  Age  ...  Annual_Premium  Policy_Sales_Channel  Vintage\n",
              "0  381110   Male   25  ...         35786.0                 152.0       53\n",
              "1  381111   Male   40  ...         33762.0                   7.0      111\n",
              "2  381112   Male   47  ...         40050.0                 124.0      199\n",
              "3  381113   Male   24  ...         37356.0                 152.0      187\n",
              "4  381114   Male   27  ...         59097.0                 152.0      297\n",
              "\n",
              "[5 rows x 11 columns]"
            ]
          },
          "metadata": {
            "tags": []
          },
          "execution_count": 5
        }
      ]
    },
    {
      "cell_type": "code",
      "metadata": {
        "id": "u7QutUF1uM0d",
        "outputId": "b1ef4cb0-7eee-4efc-9a50-01a3fbd5c494",
        "colab": {
          "base_uri": "https://localhost:8080/"
        }
      },
      "source": [
        "print(train.toPandas().shape, test.toPandas().shape)"
      ],
      "execution_count": 6,
      "outputs": [
        {
          "output_type": "stream",
          "text": [
            "(381109, 12) (127037, 11)\n"
          ],
          "name": "stdout"
        }
      ]
    },
    {
      "cell_type": "code",
      "metadata": {
        "id": "WJswqQIv7JOg",
        "outputId": "45bfa969-ff14-40a1-e372-461969887675",
        "colab": {
          "base_uri": "https://localhost:8080/"
        }
      },
      "source": [
        "# Check for null values\n",
        "train.select([fn.count(fn.when(fn.isnan(c)|fn.isnull(c),c)).alias(c) for c in train.columns]).show()  "
      ],
      "execution_count": 7,
      "outputs": [
        {
          "output_type": "stream",
          "text": [
            "+---+------+---+---------------+-----------+------------------+-----------+--------------+--------------+--------------------+-------+--------+\n",
            "| id|Gender|Age|Driving_License|Region_Code|Previously_Insured|Vehicle_Age|Vehicle_Damage|Annual_Premium|Policy_Sales_Channel|Vintage|Response|\n",
            "+---+------+---+---------------+-----------+------------------+-----------+--------------+--------------+--------------------+-------+--------+\n",
            "|  0|     0|  0|              0|          0|                 0|          0|             0|             0|                   0|      0|       0|\n",
            "+---+------+---+---------------+-----------+------------------+-----------+--------------+--------------+--------------------+-------+--------+\n",
            "\n"
          ],
          "name": "stdout"
        }
      ]
    },
    {
      "cell_type": "code",
      "metadata": {
        "id": "pdIpIT_pCMtN"
      },
      "source": [
        "numerical_columns=['Age', 'Region_Code', 'Annual_Premium', 'Policy_Sales_Channel', 'Vintage']\n",
        "categorical_columns=['Gender', 'Driving_License', 'Previously_Insured', 'Vehicle_Age', 'Vehicle_Damage', 'Response']"
      ],
      "execution_count": 8,
      "outputs": []
    },
    {
      "cell_type": "code",
      "metadata": {
        "id": "E-4TjRnwClR9",
        "outputId": "d297ad27-009e-4b84-bab7-d0945a2a4e9f",
        "colab": {
          "base_uri": "https://localhost:8080/"
        }
      },
      "source": [
        "train.groupBy([col for col in categorical_columns]).count().show()"
      ],
      "execution_count": 9,
      "outputs": [
        {
          "output_type": "stream",
          "text": [
            "+------+---------------+------------------+-----------+--------------+--------+-----+\n",
            "|Gender|Driving_License|Previously_Insured|Vehicle_Age|Vehicle_Damage|Response|count|\n",
            "+------+---------------+------------------+-----------+--------------+--------+-----+\n",
            "|  Male|              1|                 0|   < 1 Year|            No|       1|  172|\n",
            "|  Male|              1|                 0|  > 2 Years|            No|       0|    4|\n",
            "|Female|              1|                 1|   < 1 Year|           Yes|       0| 2122|\n",
            "|  Male|              1|                 0|   1-2 Year|            No|       0| 7277|\n",
            "|Female|              1|                 0|  > 2 Years|           Yes|       0| 4145|\n",
            "|  Male|              0|                 0|   1-2 Year|           Yes|       0|  317|\n",
            "|Female|              1|                 1|   < 1 Year|            No|       1|   14|\n",
            "|Female|              0|                 0|   < 1 Year|           Yes|       0|    1|\n",
            "|Female|              0|                 0|  > 2 Years|           Yes|       1|    1|\n",
            "|Female|              1|                 0|  > 2 Years|            No|       0|    4|\n",
            "|Female|              1|                 1|   < 1 Year|           Yes|       1|   10|\n",
            "|Female|              1|                 1|   1-2 Year|           Yes|       1|   22|\n",
            "|  Male|              1|                 0|   < 1 Year|            No|       0| 4736|\n",
            "|Female|              0|                 1|   1-2 Year|           Yes|       0|   10|\n",
            "|Female|              1|                 0|   1-2 Year|            No|       1|  207|\n",
            "|  Male|              1|                 1|   < 1 Year|           Yes|       0| 1835|\n",
            "|  Male|              1|                 0|  > 2 Years|           Yes|       0| 7057|\n",
            "|  Male|              1|                 0|   1-2 Year|           Yes|       1|20993|\n",
            "|Female|              1|                 1|  > 2 Years|            No|       0|    4|\n",
            "|  Male|              1|                 0|   < 1 Year|           Yes|       0|17355|\n",
            "+------+---------------+------------------+-----------+--------------+--------+-----+\n",
            "only showing top 20 rows\n",
            "\n"
          ],
          "name": "stdout"
        }
      ]
    },
    {
      "cell_type": "code",
      "metadata": {
        "id": "ZSmwDGQUuM0m",
        "outputId": "2958f6fc-bde5-4195-d514-405b267a8788",
        "colab": {
          "base_uri": "https://localhost:8080/",
          "height": 1000
        }
      },
      "source": [
        "from pyspark.sql import types as t\n",
        "from pyspark.ml.classification import RandomForestClassifier \n",
        "from pyspark.ml.tuning import CrossValidator,ParamGridBuilder\n",
        "from pyspark.ml.evaluation import BinaryClassificationEvaluator\n",
        "from pyspark.ml.feature import VectorAssembler\n",
        "stats =list()\n",
        "for col_name in numerical_columns:\n",
        "  percentiles=train.select(col_name).agg(\n",
        "      fn.expr(f'percentile({col_name},array(0))').alias('0%'),\n",
        "      fn.expr(f'percentile({col_name},array(0.25))').alias('25%'),\n",
        "      fn.expr(f'percentile({col_name},array(0.50))').alias('50%'),\n",
        "      fn.expr(f'percentile({col_name},array(0.75))').alias('75%'),      \n",
        "      fn.expr(f'percentile({col_name},array(1.00))').alias('100%')).toPandas()\n",
        "  stats.append({'label': col_name,\n",
        "                'med': percentiles.loc[0,'50%'],\n",
        "                'q1': percentiles.loc[0,'25%'], \n",
        "                'q3':percentiles.loc[0,'75%'],\n",
        "                'whislo':percentiles.loc[0,'0%'],\n",
        "                'whishi':percentiles.loc[0,'100%']})\n",
        "  \n",
        "fig, ax = plt.subplots(len(numerical_columns), 1, sharex=False, figsize=(15,25))\n",
        "\n",
        "for idx, s in enumerate(stats):\n",
        "  ax[idx].bxp([stats[idx]], vert=False, showfliers=False);\n",
        "\n",
        "plt.tight_layout()\n",
        "display()           "
      ],
      "execution_count": 10,
      "outputs": [
        {
          "output_type": "display_data",
          "data": {
            "image/png": "[encoded data removed]",
            "text/plain": [
              "<Figure size 1080x1800 with 5 Axes>"
            ]
          },
          "metadata": {
            "tags": [],
            "needs_background": "light"
          }
        }
      ]
    },
    {
      "cell_type": "code",
      "metadata": {
        "id": "Qq6EvdHE2iap"
      },
      "source": [
        "# Winsorizing the values to remove outliers \n",
        "from pyspark.sql.types import DoubleType,IntegerType,StringType\n",
        "from pyspark.sql.functions import  array\n",
        "from pyspark.sql import Row,DataFrame\n",
        "from functools import reduce\n",
        "def winsorize(winlow,winhigh):\n",
        "  def val_winsorize(value):\n",
        "    if value < winlow:\n",
        "      return float(winlow)\n",
        "    if value > head:\n",
        "      return float(winhigh)\n",
        "    return float(value)\n",
        "  return val_winsorize\n",
        "winsorizefunc = lambda col, winlow, winhigh: fn.udf(winsorize(winlow, winhigh), DoubleType())(col)\n",
        "\n",
        "for col_name in numerical_columns:\n",
        "  percentiles=train.select(col_name).agg(\n",
        "      fn.expr(f'percentile({col_name},array(0.05))').alias('5%'),      \n",
        "      fn.expr(f'percentile({col_name},array(0.95))').alias('95%')).toPandas()\n",
        "  winlow=percentiles.loc[0,'5%'][0]\n",
        "  winhigh=percentiles.loc[0,'95%'][0]\n",
        "  winsorize_train= train.withColumn(col_name, winsorizefunc(col_name, winlow, winhigh))"
      ],
      "execution_count": 11,
      "outputs": []
    },
    {
      "cell_type": "markdown",
      "metadata": {
        "id": "lU9XJNjPaCaC"
      },
      "source": [
        "**There are no otuliers .However columns like Age and Annual are rightly skewed** \n"
      ]
    },
    {
      "cell_type": "code",
      "metadata": {
        "id": "nv4YxCzruM0f"
      },
      "source": [
        "#Pipeline\n",
        "from pyspark.ml import  feature, Pipeline, regression, classification, evaluation, tuning\n",
        "import math\n",
        "\n",
        "feature_engineering_pipe=Pipeline(stages=[feature.StringIndexerModel().from_labels(['Male', 'Female'],\n",
        "                                                          inputCol='Gender',outputCol='Gender_Feature'),\n",
        "                 feature.StringIndexerModel().from_labels(['< 1 Year','> 2 Years','1-2 Year'],\n",
        "                                                          inputCol='Vehicle_Age',outputCol='Vehicle_Age_feature'),\n",
        "                 feature.StringIndexerModel().from_labels(['No','Yes'],inputCol='Vehicle_Damage',outputCol='Vehicle_Damage_Feature')])\n",
        "train_xformed = feature_engineering_pipe.fit(train).transform(train).select(numerical_columns + \n",
        "                                                                            ['Driving_License', 'Previously_Insured', 'Response', \n",
        "                                                                             fn.col('Gender_Feature').alias('Gender'), \n",
        "                                                                             fn.col('Vehicle_Age_Feature').alias('Vehicle_Age'), \n",
        "                                                                             fn.col('Vehicle_Damage_Feature').alias('Vehicle_Damage')])"
      ],
      "execution_count": 12,
      "outputs": []
    },
    {
      "cell_type": "code",
      "metadata": {
        "id": "5Dt6EVXcafNq"
      },
      "source": [
        "# Applying log transform on skewed data as measurements are different across all dimensions\n",
        "cols=train_xformed.columns\n",
        "cols\n",
        "log_imputer=fn.udf(lambda x:math.log(x+1),DoubleType())\n",
        "\n",
        "df_xformed=train_xformed.withColumn(\"Age\",log_imputer(\"Age\"))\\\n",
        "                .withColumn(\"Region_Code\",log_imputer(\"Region_Code\"))\\\n",
        "                .withColumn(\"Annual_Premium\",log_imputer(\"Annual_Premium\"))\\\n",
        "                .withColumn(\"Policy_Sales_Channel\",log_imputer(\"Policy_Sales_Channel\"))\\\n",
        "                .withColumn(\"Vintage\",log_imputer(\"Vintage\")).toPandas()\n",
        "                \n",
        "df_xformed=feature_engineering_pipe.fit(train_xformed).transform(train_xformed).select(cols)\n"
      ],
      "execution_count": 25,
      "outputs": []
    },
    {
      "cell_type": "markdown",
      "metadata": {
        "id": "jMGCDDzNFo52"
      },
      "source": [
        "# **Random Forest**"
      ]
    },
    {
      "cell_type": "code",
      "metadata": {
        "id": "GRpJnnfgQclI"
      },
      "source": [
        "# Performing train,validation test\n",
        "train_df,validation_df=df_xformed.randomSplit([0.66,0.33],seed=12)\n",
        "columns_to_drop = ['Response']\n",
        "df=df_xformed.drop(*columns_to_drop)\n",
        "cols=df.columns\n",
        "va=VectorAssembler(inputCols=cols,outputCol='features')\n",
        "rf=RandomForestClassifier(labelCol='Response',featuresCol='features')\n",
        "pipe=Pipeline(stages=[va,rf])\n",
        "paramGrid=ParamGridBuilder().addGrid(rf.numTrees,[8,20]).addGrid(rf.maxDepth,[10,15]).addGrid(rf.impurity,['gini','entropy']).build()\n",
        "\n",
        "eval=BinaryClassificationEvaluator(metricName='areaUnderPR',labelCol='Response')\n",
        "# Using three fold cross validator\n",
        "rfCrossValidator=CrossValidator(estimator=pipe,estimatorParamMaps=paramGrid,numFolds=3,evaluator=eval)\n",
        "rfModel=rfCrossValidator.fit(train_df)"
      ],
      "execution_count": 31,
      "outputs": []
    },
    {
      "cell_type": "code",
      "metadata": {
        "id": "xscgX74-WdN2",
        "outputId": "525fd809-136c-4fac-b3a1-d11b3638fdbc",
        "colab": {
          "base_uri": "https://localhost:8080/"
        }
      },
      "source": [
        "bestModel=rfModel.bestModel\n",
        "print(f'Number of trees:{bestModel.stages[-1].getNumTrees}') \n",
        "print('Max Depth of tree : {}'.format(bestModel.stages[-1].getOrDefault('maxDepth')))\n",
        "print('Best Impurity : {}'.format(bestModel.stages[-1].getOrDefault('impurity')))\n",
        "print('Maximum number of Bins : {}'.format(bestModel.stages[-1].getOrDefault('maxBins')))"
      ],
      "execution_count": 32,
      "outputs": [
        {
          "output_type": "stream",
          "text": [
            "Number of trees:20\n",
            "Max Depth of tree : 10\n",
            "Best Impurity : entropy\n",
            "Maximum number of Bins : 32\n"
          ],
          "name": "stdout"
        }
      ]
    },
    {
      "cell_type": "code",
      "metadata": {
        "id": "CqXPTPdxrJEW",
        "outputId": "1be206e5-70e4-4d4f-ce32-0f7e34ad7494",
        "colab": {
          "base_uri": "https://localhost:8080/"
        }
      },
      "source": [
        "rf_pred=bestModel.transform(validation_df)\n",
        "print(f'PR AUC Metric {eval.evaluate(rf_pred)}')\n",
        "rf_Accuracy=rf_pred.where('Response == prediction').count()/validation_df.count()\n",
        "print('Accuracy {} '.format(rf_Accuracy))"
      ],
      "execution_count": 33,
      "outputs": [
        {
          "output_type": "stream",
          "text": [
            "PR AUC Metric 0.3552896823772358\n",
            "Accuracy 0.8777850460660609 \n"
          ],
          "name": "stdout"
        }
      ]
    },
    {
      "cell_type": "code",
      "metadata": {
        "id": "nSr6AvIMp_yW"
      },
      "source": [
        "import pandas as pd\n",
        "importance=bestModel.stages[-1].featureImportances\n",
        "feature=pd.DataFrame(importance.toArray(),columns=['weights'])\n",
        "feature['feature']=pd.Series(cols)\n",
        "feature=feature.sort_values(by=['weights'],ascending=False)"
      ],
      "execution_count": 41,
      "outputs": []
    },
    {
      "cell_type": "code",
      "metadata": {
        "id": "nkumOCqh1buz",
        "outputId": "20a1e60b-4093-4fd3-f12e-2dd84dab298f",
        "colab": {
          "base_uri": "https://localhost:8080/",
          "height": 628
        }
      },
      "source": [
        "import matplotlib.pyplot as plt\n",
        "plt.figure(figsize=(20,20))\n",
        "feature.plot.barh(x='feature',y='weights',figsize=(10,10),fontsize=10)"
      ],
      "execution_count": 42,
      "outputs": [
        {
          "output_type": "execute_result",
          "data": {
            "text/plain": [
              "<matplotlib.axes._subplots.AxesSubplot at 0x7f8cfdf47320>"
            ]
          },
          "metadata": {
            "tags": []
          },
          "execution_count": 42
        },
        {
          "output_type": "display_data",
          "data": {
            "text/plain": [
              "<Figure size 1440x1440 with 0 Axes>"
            ]
          },
          "metadata": {
            "tags": []
          }
        },
        {
          "output_type": "display_data",
          "data": {
            "image/png": "[encoded data removed]",
            "text/plain": [
              "<Figure size 720x720 with 1 Axes>"
            ]
          },
          "metadata": {
            "tags": [],
            "needs_background": "light"
          }
        }
      ]
    },
    {
      "cell_type": "markdown",
      "metadata": {
        "id": "ahN04itMFiZ3"
      },
      "source": [
        "# **Gradient Boosting**"
      ]
    },
    {
      "cell_type": "code",
      "metadata": {
        "id": "hmhH7Qux8Vn5"
      },
      "source": [
        "# Performing train,validation test\n",
        "from pyspark.ml.classification import GBTClassifier\n",
        "train_df,validation_df=df_xformed.randomSplit([0.66,0.33],seed=12)\n",
        "columns_to_drop = ['Response']\n",
        "df=df_xformed.drop(*columns_to_drop)\n",
        "cols=df.columns\n",
        "va=VectorAssembler(inputCols=cols,outputCol='features')\n",
        "gbt=GBTClassifier(labelCol='Response',featuresCol='features')\n",
        "pipe=Pipeline(stages=[va,gbt])\n",
        "paramGrid=ParamGridBuilder().addGrid(gbt.maxDepth,[10]).addGrid(gbt.maxIter,[15,20,25]).build()\n",
        "\n",
        "eval=BinaryClassificationEvaluator(metricName='areaUnderPR',labelCol='Response')\n",
        "# Using three fold cross validator\n",
        "gbtCrossValidator=CrossValidator(estimator=pipe,estimatorParamMaps=paramGrid,numFolds=3,evaluator=eval)\n",
        "gbtModel=gbtCrossValidator.fit(train_df)"
      ],
      "execution_count": 57,
      "outputs": []
    },
    {
      "cell_type": "code",
      "metadata": {
        "id": "-HFweHBMCdQN",
        "outputId": "4af8ec52-7e5e-4022-bae7-a0a7efe9fd05",
        "colab": {
          "base_uri": "https://localhost:8080/"
        }
      },
      "source": [
        "bestModel2=gbtModel.bestModel\n",
        "print('Max Depth of tree {}'.format(bestModel2.stages[-1].getOrDefault('maxDepth')))\n",
        "print('Best Impurity : {}'.format(bestModel2.stages[-1].getOrDefault('impurity')))\n",
        "print('Maximum number of iterations {}'.format(bestModel2.stages[-1].getOrDefault('maxIter')))"
      ],
      "execution_count": 58,
      "outputs": [
        {
          "output_type": "stream",
          "text": [
            "Max Depth of tree 10\n",
            "Best Impurity : variance\n",
            "Maximum number of iterations 15\n"
          ],
          "name": "stdout"
        }
      ]
    },
    {
      "cell_type": "code",
      "metadata": {
        "id": "ZqRxD7ZxED2k",
        "outputId": "3b7bb972-f4bf-43ab-ba32-b105ae230046",
        "colab": {
          "base_uri": "https://localhost:8080/"
        }
      },
      "source": [
        "gb_pred=bestModel2.transform(validation_df)\n",
        "print(f'PR AUC Metric : {eval.evaluate(gb_pred)}')\n",
        "gb_accuracy=gb_pred.where('Response==prediction').count()/validation_df.count()\n",
        "print(f'Accuracy : {gb_accuracy}')"
      ],
      "execution_count": 60,
      "outputs": [
        {
          "output_type": "stream",
          "text": [
            "PR AUC Metric : 0.3539110335477946\n",
            "Accuracy : 0.8766343797041369\n"
          ],
          "name": "stdout"
        }
      ]
    },
    {
      "cell_type": "code",
      "metadata": {
        "id": "69d0m6IIJNE2"
      },
      "source": [
        "import pandas as pd\n",
        "importance=bestModel2.stages[-1].featureImportances\n",
        "feature_gbt=pd.DataFrame(importance.toArray(),columns=['weights'])\n",
        "feature_gbt['feature']=pd.Series(cols)\n",
        "feature_gbt=feature_gbt.sort_values(by=['weights'],ascending=False)\n"
      ],
      "execution_count": 67,
      "outputs": []
    },
    {
      "cell_type": "code",
      "metadata": {
        "id": "0akRwJU8KIyP",
        "outputId": "40da11a5-10a0-40f7-c071-a59e21a95910",
        "colab": {
          "base_uri": "https://localhost:8080/",
          "height": 628
        }
      },
      "source": [
        "plt.figure(figsize=(20,20))\n",
        "feature_gbt.plot.barh(x='feature',y='weights',figsize=(10,10),fontsize=10)"
      ],
      "execution_count": 69,
      "outputs": [
        {
          "output_type": "execute_result",
          "data": {
            "text/plain": [
              "<matplotlib.axes._subplots.AxesSubplot at 0x7f8ce8994c50>"
            ]
          },
          "metadata": {
            "tags": []
          },
          "execution_count": 69
        },
        {
          "output_type": "display_data",
          "data": {
            "text/plain": [
              "<Figure size 1440x1440 with 0 Axes>"
            ]
          },
          "metadata": {
            "tags": []
          }
        },
        {
          "output_type": "display_data",
          "data": {
            "image/png": "[encoded data removed]",
            "text/plain": [
              "<Figure size 720x720 with 1 Axes>"
            ]
          },
          "metadata": {
            "tags": [],
            "needs_background": "light"
          }
        }
      ]
    },
    {
      "cell_type": "markdown",
      "metadata": {
        "id": "L0MyaFFGMpGD"
      },
      "source": [
        "# **Decision Tree**"
      ]
    },
    {
      "cell_type": "code",
      "metadata": {
        "id": "qdoPbDx-K9a0"
      },
      "source": [
        "from pyspark.ml.classification import DecisionTreeClassifier\n",
        "columns_to_drop = ['Response']\n",
        "df=df_xformed.drop(*columns_to_drop)\n",
        "cols=df.columns\n",
        "va=VectorAssembler(inputCols=cols,outputCol='features')\n",
        "dt=DecisionTreeClassifier(labelCol='Response',featuresCol='features')\n",
        "pipe=Pipeline(stages=[va,dt])\n",
        "paramGrid=ParamGridBuilder().addGrid(dt.maxDepth,[10,15]).addGrid(dt.impurity,['gini','entropy']).build()\n",
        "\n",
        "eval=BinaryClassificationEvaluator(metricName='areaUnderPR',labelCol='Response')\n",
        "# Using three fold cross validator\n",
        "dtCrossValidator=CrossValidator(estimator=pipe,estimatorParamMaps=paramGrid,numFolds=3,evaluator=eval)\n",
        "dtModel=dtCrossValidator.fit(train_df)"
      ],
      "execution_count": 72,
      "outputs": []
    },
    {
      "cell_type": "code",
      "metadata": {
        "id": "8fHLG1LGLrtC",
        "outputId": "b694806d-5b4e-4adc-d264-31dcd4289e99",
        "colab": {
          "base_uri": "https://localhost:8080/"
        }
      },
      "source": [
        "bestModel3=dtModel.bestModel\n",
        "print('Max Depth of tree {}'.format(bestModel3.stages[-1].getOrDefault('maxDepth')))\n",
        "print('Best Impurity : {}'.format(bestModel3.stages[-1].getOrDefault('impurity')))"
      ],
      "execution_count": 74,
      "outputs": [
        {
          "output_type": "stream",
          "text": [
            "Max Depth of tree 10\n",
            "Best Impurity : entropy\n"
          ],
          "name": "stdout"
        }
      ]
    },
    {
      "cell_type": "code",
      "metadata": {
        "id": "XNJZ7ETwLyEb",
        "outputId": "244d9826-b510-48e9-d166-df9afc2bec1f",
        "colab": {
          "base_uri": "https://localhost:8080/"
        }
      },
      "source": [
        "dt_pred=bestModel3.transform(validation_df)\n",
        "print(f'PR AUC Metric : {eval.evaluate(dt_pred)}')\n",
        "dt_accuracy=dt_pred.where('Response==prediction').count()/validation_df.count()\n",
        "print(f'Accuracy : {dt_accuracy}')"
      ],
      "execution_count": 76,
      "outputs": [
        {
          "output_type": "stream",
          "text": [
            "PR AUC Metric : 0.2929334847485497\n",
            "Accuracy : 0.8772648818202596\n"
          ],
          "name": "stdout"
        }
      ]
    },
    {
      "cell_type": "code",
      "metadata": {
        "id": "p_nniUZtL8nT",
        "outputId": "f053a4cd-4cdd-4e2a-f8e3-06f4f6f15f4a",
        "colab": {
          "base_uri": "https://localhost:8080/",
          "height": 628
        }
      },
      "source": [
        "import pandas as pd\n",
        "importance=bestModel3.stages[-1].featureImportances\n",
        "feature_dt=pd.DataFrame(importance.toArray(),columns=['weights'])\n",
        "feature_dt['feature']=pd.Series(cols)\n",
        "feature_dt=feature_dt.sort_values(by=['weights'],ascending=False)\n",
        "plt.figure(figsize=(20,20))\n",
        "feature_dt.plot.barh(x='feature',y='weights',figsize=(10,10),fontsize=10)"
      ],
      "execution_count": 77,
      "outputs": [
        {
          "output_type": "execute_result",
          "data": {
            "text/plain": [
              "<matplotlib.axes._subplots.AxesSubplot at 0x7f8ce88e5cc0>"
            ]
          },
          "metadata": {
            "tags": []
          },
          "execution_count": 77
        },
        {
          "output_type": "display_data",
          "data": {
            "text/plain": [
              "<Figure size 1440x1440 with 0 Axes>"
            ]
          },
          "metadata": {
            "tags": []
          }
        },
        {
          "output_type": "display_data",
          "data": {
            "image/png": "[encoded data removed]",
            "text/plain": [
              "<Figure size 720x720 with 1 Axes>"
            ]
          },
          "metadata": {
            "tags": [],
            "needs_background": "light"
          }
        }
      ]
    },
    {
      "cell_type": "markdown",
      "metadata": {
        "id": "eFfQ7-PauM0m"
      },
      "source": [
        "Although <i>Region_Code</i> and <i>Policy_Sales_Channel</i> are categorical variables, for exploratory analysis, it is easier to treat them as numerical variables."
      ]
    }
  ]
}